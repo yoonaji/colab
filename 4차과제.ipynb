{
  "nbformat": 4,
  "nbformat_minor": 0,
  "metadata": {
    "colab": {
      "provenance": [],
      "authorship_tag": "ABX9TyNr0+9SsZNyivNmxz4zv0cR",
      "include_colab_link": true
    },
    "kernelspec": {
      "name": "python3",
      "display_name": "Python 3"
    },
    "language_info": {
      "name": "python"
    }
  },
  "cells": [
    {
      "cell_type": "markdown",
      "metadata": {
        "id": "view-in-github",
        "colab_type": "text"
      },
      "source": [
        "<a href=\"https://colab.research.google.com/github/yoonaji/colab/blob/main/4%EC%B0%A8%EA%B3%BC%EC%A0%9C.ipynb\" target=\"_parent\"><img src=\"https://colab.research.google.com/assets/colab-badge.svg\" alt=\"Open In Colab\"/></a>"
      ]
    },
    {
      "cell_type": "markdown",
      "source": [
        "문제1: HTML 태그 제거하기\n",
        "함수명: remove_html_tags\n",
        "설명:\n",
        "주어진 HTML 문자열에서 HTML 태그를 모두 제거하는 함수를 작성\n",
        "입력: <p>Hello, World!</p>\n",
        "출력: 'Hello, World!'"
      ],
      "metadata": {
        "id": "UXlsvRf9-3Gt"
      }
    },
    {
      "cell_type": "code",
      "source": [
        "#1\n",
        "#remove_html_tags 함수 지정하기\n",
        "def  remove_html_tags(n):\n",
        "  #re 함수 불러오기\n",
        "  import re\n",
        "  #p에 <>사이에 모든게 들어갈 수 있지만 ?로 non-greedy를 만들어주고 컴파일한다.\n",
        "  p = re.compile('<.*?>')\n",
        "  #n을 p로 컴파일하고 매치되는 <.*?>을 \"\"로 바꿔 없애준 후 a에 저장한다.\n",
        "  a = p.sub(\"\",n)\n",
        "  #a 값을 반환한다.\n",
        "  return a\n",
        "\n",
        "#함수 실행하기\n",
        "print(remove_html_tags('<p>Hello, World!</p>'))"
      ],
      "metadata": {
        "colab": {
          "base_uri": "https://localhost:8080/"
        },
        "id": "EHJf4DAKG3h0",
        "outputId": "aa240d0f-bc84-4f26-e77d-90d2b0564b1f"
      },
      "execution_count": null,
      "outputs": [
        {
          "output_type": "stream",
          "name": "stdout",
          "text": [
            "Hello, World!\n"
          ]
        }
      ]
    },
    {
      "cell_type": "markdown",
      "source": [
        "문제 2: 날짜 형식 변환하기\n",
        "함수명: convert_date_format\n",
        "설명: 주어진 날짜 문자열의 형식을 'YYYY-MM-DD'에서 'MM/DD/YYYY'로 변환하는 함수 작성\n",
        "입력: '2023-06-06'\n",
        "출력: '06/06/2023'"
      ],
      "metadata": {
        "id": "bZPUIu6m-6lx"
      }
    },
    {
      "cell_type": "code",
      "source": [
        "#2\n",
        "# convert_date_format 함수 정의하기\n",
        "def convert_date_format(n):\n",
        "  #re 함수 가져오기\n",
        "  import re\n",
        "  #숫자 여러개-숫자여러개-숫자여러개 그루핑 형식으로 컴파일 지정해주기\n",
        "  a = re.compile('(\\d+)-(\\d+)-(\\d+)')\n",
        "  #search 매서드로 문자열에서 패턴과 일치하는 부분 찾기\n",
        "  match = a.search(n)\n",
        "  #만약 매치되면\n",
        "  if match:\n",
        "    #두번째그룹/세번째그룹/첫번째그룹 프린트해주기\n",
        "    print(match.group(2),'/',match.group(3),'/',match.group(1))\n",
        "#함수 실행\n",
        "convert_date_format('2023-06-06')"
      ],
      "metadata": {
        "colab": {
          "base_uri": "https://localhost:8080/"
        },
        "id": "TMgY5KFJ6uci",
        "outputId": "3c672149-a490-4601-89ce-38d987e1ade9"
      },
      "execution_count": null,
      "outputs": [
        {
          "output_type": "stream",
          "name": "stdout",
          "text": [
            "06 / 06 / 2023\n"
          ]
        }
      ]
    },
    {
      "cell_type": "markdown",
      "source": [
        "문제 3: 숫자 리스트 정렬하기\n",
        "함수명: bubble_sort\n",
        "설명\n",
        "주어진 숫자 리스트를 오름차순으로 정렬하는 함수를 작성\n",
        "파이썬 내장 함수인 sort()나 sorted()를 사용하지 말고, 버블 정렬(bubble sort) 알고리즘을 사용\n",
        "버블 정렬이란 인접한 두 원소를 비교하며 필요에 따라 위치를 바꾸는 방식으로 동작하는 정렬 알고리즘\n",
        "버블 정렬 알고리즘 설명: 여기\n",
        "입력:[5, 3, 1, 4, 2]\n",
        "출력:[1, 2, 3, 4, 5]"
      ],
      "metadata": {
        "id": "uTkiOv-I-7Ui"
      }
    },
    {
      "cell_type": "code",
      "source": [
        "#bubble_sort 함수 정의해주기\n",
        "def bubble_sort(a):\n",
        "    #n에 입력값 요소 갯수 지정\n",
        "    n = len(a)\n",
        "    #밑의 과정을 n번 반복한다\n",
        "    for i in range(n - 1):\n",
        "     # j가 0에서 n-1일때까지 반복한다\n",
        "     for j in range(n - 1):\n",
        "            # 만약 입력값의 j번째 요소가 j+1번째 요소보다 크면\n",
        "            if a[j] > a[j + 1]:\n",
        "               #두 요소의 순서를 바꾼다\n",
        "                a[j], a[j + 1] = a[j + 1], a[j]\n",
        "    #정렬된 입력값 반환\n",
        "    return a\n",
        "#함수 실행 후 출력\n",
        "print(bubble_sort([5, 3, 1, 4, 2]))"
      ],
      "metadata": {
        "colab": {
          "base_uri": "https://localhost:8080/"
        },
        "id": "R_RoUS7z4OrE",
        "outputId": "a6657fca-9fc8-42db-85a9-dd76d1e25a8d"
      },
      "execution_count": null,
      "outputs": [
        {
          "output_type": "stream",
          "name": "stdout",
          "text": [
            "[1, 2, 3, 4, 5]\n"
          ]
        }
      ]
    },
    {
      "cell_type": "markdown",
      "source": [
        "문제 4: 문자열에서 가장 많이 나오는 문자 찾기\n",
        "함수명: most_common_char\n",
        "설명\n",
        "주어진 문자열에서 가장 많이 나오는 문자를 반환하는 함수 작성\n",
        "동일한 횟수로 나오는 문자가 여러 개일 경우, 알파벳 순서로 가장 빠른 문자를 반\n",
        "입력:aabbbccde\n",
        "출력:b"
      ],
      "metadata": {
        "id": "DnFtDxx2-8oc"
      }
    },
    {
      "cell_type": "code",
      "source": [
        "#4\n",
        "#most_common_char 함수 정의하기\n",
        "def most_common_char(n):\n",
        "  #비어있는 딕셔너리 생성하고 a에 저장\n",
        "  a = {}\n",
        "  #n에 요소가 있을경우 반복한다\n",
        "  for i in n:\n",
        "    #만약 그 요소가 a에 있으면\n",
        "    if i in a:\n",
        "      #a딕셔너리의 i에 1이라는 값을 더한다.\n",
        "      a[i] += 1\n",
        "   #아니면\n",
        "    else:\n",
        "      #a딕셔너리의 i에 1을 지정한다\n",
        "      a[i] = 1\n",
        "  #딕셔너리 a를 분류하는데, 값이 큰 순으로 분류하기 위해 -x[1]을 사용했고, 만약 값이 같을 경우 알파벳 순으로 구분하기 위해 x[0]을 사용했다\n",
        "  b = sorted(a.items(), key = lambda x: (-x[1], x[0]))\n",
        "  #b의 첫번째 (key,value)값을 꺼내고, 그 중 key값을 꺼내 c에 저장한다.\n",
        "  c = b[0][0]\n",
        "  #c를 출력한다.\n",
        "  print(c)\n",
        "#함수 실행하기\n",
        "most_common_char('aabbbccde')"
      ],
      "metadata": {
        "colab": {
          "base_uri": "https://localhost:8080/"
        },
        "id": "KioF9R326Us4",
        "outputId": "14ffd9f9-0b17-4701-bf8a-65c75c057003"
      },
      "execution_count": null,
      "outputs": [
        {
          "output_type": "stream",
          "name": "stdout",
          "text": [
            "b\n"
          ]
        }
      ]
    },
    {
      "cell_type": "markdown",
      "source": [
        "문제 5: 각 단어의 첫 글자로 이루어진 문자열 만들기\n",
        "함수명: first_letters\n",
        "설명\n",
        "주어진 문장에서 각 단어의 첫 글자를 모아 새로운 문자열을 만드는 함수 작성\n",
        "입력:Hello World From Python\n",
        "출력:HWFP"
      ],
      "metadata": {
        "id": "qTInQS2s-9PG"
      }
    },
    {
      "cell_type": "code",
      "execution_count": null,
      "metadata": {
        "colab": {
          "base_uri": "https://localhost:8080/"
        },
        "id": "NRu4dLxK6Ry-",
        "outputId": "196c23d6-fb39-4d00-f0c9-366303803eeb"
      },
      "outputs": [
        {
          "output_type": "stream",
          "name": "stdout",
          "text": [
            "HWFP\n"
          ]
        }
      ],
      "source": [
        "#5\n",
        "#first_letters 함수를 정의\n",
        "def first_letters(n):\n",
        "  #입력한 값을 띄어쓰기를 기준으로 구분하여 a 에 저장하기\n",
        "  a = n.split(' ')\n",
        "  #띄어쓰기로 구분된 곳에 줄바꿈하여 b에 저장\n",
        "  b = \"\\n\".join(a)\n",
        "  #re 함수 불러오기\n",
        "  import re\n",
        "  #b의 모든 문장에서 첫 시작이 알파벳인 것 하나만 찾아서 c에 저장\n",
        "  c = re.findall('^[a-zA-Z]', b, re.M)\n",
        "  #리스트가 아닌 문자열로 반환해주기위해 \"\".join 써주기\n",
        "  return \"\".join(c)\n",
        "#출력해준다\n",
        "print(first_letters('Hello World From Python'))"
      ]
    }
  ]
}