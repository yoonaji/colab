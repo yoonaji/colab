{
  "nbformat": 4,
  "nbformat_minor": 0,
  "metadata": {
    "colab": {
      "provenance": [],
      "authorship_tag": "ABX9TyOMkeT7q9oP4Z72/r80Bjq5",
      "include_colab_link": true
    },
    "kernelspec": {
      "name": "python3",
      "display_name": "Python 3"
    },
    "language_info": {
      "name": "python"
    }
  },
  "cells": [
    {
      "cell_type": "markdown",
      "metadata": {
        "id": "view-in-github",
        "colab_type": "text"
      },
      "source": [
        "<a href=\"https://colab.research.google.com/github/yoonaji/colab/blob/main/3%EC%B0%A8%EA%B3%BC%EC%A0%9C.ipynb\" target=\"_parent\"><img src=\"https://colab.research.google.com/assets/colab-badge.svg\" alt=\"Open In Colab\"/></a>"
      ]
    },
    {
      "cell_type": "markdown",
      "source": [
        "문제 1(로또 번호 생성기)\n",
        "함수명: generate_lotto_numbers\n",
        "설명:\n",
        "로또 번호 6개를 생성하고, 정렬하여 출력하는 함수를 작성\n",
        "로또 번호는 1부터 45까지의 숫자 중에서 무작위로 선택되며, 같은 숫자는 중복되어서는 안됨\n",
        "힌트:\n",
        "random.sample 함수를 사용하여 1부터 45까지의 숫자 중에서 6개를 무작위로 선택\n",
        "그 후 sorted 함수를 사용하여 번호를 정렬"
      ],
      "metadata": {
        "id": "5ciMUR3urwdI"
      }
    },
    {
      "cell_type": "code",
      "execution_count": null,
      "metadata": {
        "colab": {
          "base_uri": "https://localhost:8080/"
        },
        "id": "p6X_FU0NrrGY",
        "outputId": "74e1e714-df87-4982-cc81-cd8e0a32a69c"
      },
      "outputs": [
        {
          "output_type": "stream",
          "name": "stdout",
          "text": [
            "[36, 41, 3, 16, 9, 12]\n"
          ]
        }
      ],
      "source": [
        "#1\n",
        "#random 모듈 가져오기\n",
        "import random\n",
        "def generate_lotto_numbers():\n",
        " #빈 리스트 생성\n",
        " a = []\n",
        " #a 요소가 6보다 작을 경우 1부터 45 사이의 수 중에서 무작위로 정수를 뽑아 b에 저장한다. 요소가 6개일 경우 실행되지 않는다.\n",
        " while len(a)<6:\n",
        "  b = random.randint(1,45)\n",
        "  #무작위 정수가 a에 없을 경우에만 a에 추가함\n",
        "  if b not in a:\n",
        "   a.append(b)\n",
        " #a값 리턴\n",
        " return a\n",
        "#로또번호 무작위로 생성해서 프린트하기\n",
        "print(generate_lotto_numbers())"
      ]
    },
    {
      "cell_type": "markdown",
      "source": [
        "문제 2 (폴더 내 파일 조회)\n",
        "함수명: list_files\n",
        "설명:\n",
        "주어진 폴더 내의 모든 파일과 폴더를 출력하는 함수를 작성\n",
        "폴더 이름은 사용자로부터 입력 받아야 함\n",
        "힌트:\n",
        "os.listdir 함수를 사용하여 폴더 내의 파일과 폴더를 가져옴\n",
        "input 함수를 사용하여 사용자로부터 폴더 이름을 입력"
      ],
      "metadata": {
        "id": "Rd9PMFtmr4e_"
      }
    },
    {
      "cell_type": "code",
      "source": [
        "#2\n",
        "#os 가져오고 구글 드라이브에 마운팅. drive 폴더 안에 있는 것을 사용할 것이므로 이렇게 설정한다.\n",
        "import os\n",
        "from google.colab import drive\n",
        "drive.mount('/content/drive')\n",
        "#함수 list_files 정의\n",
        "def list_files():\n",
        "  #사용자가 입력하는 폴더이름을 filename으로 지정\n",
        "  filename = input()\n",
        "  #filename 디렉터리에 있는 파일들의 리스트가 있으면 출력. 요소가 없을 때 까지 반복한다.\n",
        "  for i in os.listdir(filename):\n",
        "    print(i)\n",
        "\n",
        "#list_files 실행\n",
        "list_files()\n",
        "\n",
        ""
      ],
      "metadata": {
        "colab": {
          "base_uri": "https://localhost:8080/"
        },
        "id": "VOMNBPJNGBbW",
        "outputId": "48e96e99-eaf2-4e30-a325-97dc3d3f379d"
      },
      "execution_count": null,
      "outputs": [
        {
          "output_type": "stream",
          "name": "stdout",
          "text": [
            "Drive already mounted at /content/drive; to attempt to forcibly remount, call drive.mount(\"/content/drive\", force_remount=True).\n",
            "/content/drive/MyDrive/cal\n",
            ".ipynb_checkpoints\n",
            "add.py\n",
            "mul.py\n",
            "sub.py\n",
            "__pycache__\n",
            "mod (1).py\n",
            "students.txt\n",
            "excellent\n",
            "excellent.txt\n",
            "mod (2).py\n",
            "mod.py\n",
            "div.txt\n",
            "__init__.txt\n",
            "students (1).py\n"
          ]
        }
      ]
    },
    {
      "cell_type": "markdown",
      "source": [
        "문제 3 (현재 시간 출력)\n",
        "함수명: print_current_time\n",
        "설명: 현재 시간을 '시:분:초' 형식으로 출력하는 함수를 작성\n",
        "힌트:\n",
        "time 모듈의 localtime 함수와 strftime 함수를 사용하여 현재 시간을 가져오고, 원하는 형식으로 출력"
      ],
      "metadata": {
        "id": "0S2Fymnmr44x"
      }
    },
    {
      "cell_type": "code",
      "source": [
        "#3\n",
        "#time 함수 가져오기\n",
        "import time\n",
        "def print_current_time():\n",
        "  # %H, %M, %S를 사용해 표준시간을 가져와 a에 저장하기\n",
        "  a = time.strftime('%H:%M:%S',time.localtime(time.time()))\n",
        "  #한국시간을 구하기 위해, a의 첫번째 요소에 9 더해서 정수로 b에 저장하기. 한국시간은 표준시간과 9시간 차이가 난다.\n",
        "  b = int(a[:2]) + 9\n",
        "  #b를 문자열로 바꾸고, a의 두번째 이상 요소와 더해서 c에 저장\n",
        "  c = str(b) + a[2:]\n",
        "  #c 프린트하기\n",
        "  print(c)\n",
        "#함수 실행\n",
        "print_current_time()\n"
      ],
      "metadata": {
        "colab": {
          "base_uri": "https://localhost:8080/"
        },
        "id": "58OQZVI7laj8",
        "outputId": "5002e90e-b667-41e7-edf5-c442ab80afbc"
      },
      "execution_count": null,
      "outputs": [
        {
          "output_type": "stream",
          "name": "stdout",
          "text": [
            "20:46:50\n"
          ]
        }
      ]
    },
    {
      "cell_type": "markdown",
      "source": [
        "문제 4 (달력 출력)\n",
        "함수명: print_calendar\n",
        "설명:\n",
        "사용자로부터 연도와 월을 입력받아 해당 월의 달력을 출력하는 함수를 작성\n",
        "연도와 월은 정확히 입력되어야 하며, 그렇지 않은 경우 \"잘못된 입력입니다.\"라는 메시지를 출력\n",
        "힌트:\n",
        "calendar 모듈의 month 함수를 사용하여 달력을 출력\n",
        "input 함수를 사용하여 사용자로부터 연도와 월을 입력"
      ],
      "metadata": {
        "id": "A5zDqc6or5L5"
      }
    },
    {
      "cell_type": "code",
      "source": [
        "#4\n",
        "# print_calendar 함수 정의하기\n",
        "def print_calendar():\n",
        "  # calendar함수 가져오기\n",
        "  import calendar\n",
        "  # a와 b에 각각 연도, 월 지정하게 하기\n",
        "  a = int(input('연도를 입력하세요:', ))\n",
        "  b = int(input('월을 입력하세요:', ))\n",
        "  # 연도와 월에 설정될 수 없는 숫자 넣으면 잘못된 입력입니다 출력하기. 월은 1~12 여야하며, 연도는 1 이상이어야 한다.\n",
        "  if not a>0 and 0<b<13 :\n",
        "    print(\"잘못된 입력입니다\")\n",
        "  #제대로 입력했으면 calendar.prmonth 함수를 사용해 그 연도의 월 캘린더 프린트하기\n",
        "  else:\n",
        "    calendar.prmonth(a, b)\n",
        "\n",
        "#print_calendar 함수 실행\n",
        "print_calendar()"
      ],
      "metadata": {
        "colab": {
          "base_uri": "https://localhost:8080/"
        },
        "id": "E4CS1LCpm7Wr",
        "outputId": "1851d022-a096-44b1-9de3-b7e27db2bad7"
      },
      "execution_count": null,
      "outputs": [
        {
          "output_type": "stream",
          "name": "stdout",
          "text": [
            "연도를 입력하세요:456\n",
            "월을 입력하세요:6\n",
            "      June 456\n",
            "Mo Tu We Th Fr Sa Su\n",
            "          1  2  3  4\n",
            " 5  6  7  8  9 10 11\n",
            "12 13 14 15 16 17 18\n",
            "19 20 21 22 23 24 25\n",
            "26 27 28 29 30\n"
          ]
        }
      ]
    },
    {
      "cell_type": "markdown",
      "source": [
        "문제 5 (특정 파일의 확장자 변경)\n",
        "함수명: change_extension\n",
        "설명:\n",
        "사용자로부터 파일 이름과 변경하고자 하는 확장자를 입력받아, 해당 파일의 확장자를 변경하는 함수를 작성\n",
        "만약 파일이 존재하지 않는다면 \"파일이 존재하지 않습니다.\"라는 메시지를 출력\n",
        "힌트:\n",
        "os 모듈의 rename 함수를 사용하여 파일 이름을 변경\n",
        "os.path 모듈의 exists 함수를 사용하여 파일의 존재 여부를 확인"
      ],
      "metadata": {
        "id": "n7FP9GVIr6fN"
      }
    },
    {
      "cell_type": "code",
      "source": [
        "#5\n",
        "# 드라이브 마운팅하고 os 함수 가져오기\n",
        "from google.colab import drive\n",
        "drive.mount('/content/drive')\n",
        "import os\n",
        "\n",
        "#change_extension 함수 정의하기\n",
        "def change_extension():\n",
        "  # a와 b에 각각 파일 이름, 변경할 확장자 이름 작성하기\n",
        "  a = input('filename:')\n",
        "  b = input('ext:')\n",
        "  # 확장자 기준으로 분리해서 첫 요소를 k라하기\n",
        "  k = os.path.splitext(a)[0]\n",
        "\n",
        "  # 입력한 파일이 존재하면 new_filename 에 첫 요소와 . 변경할 확장자 이름 더해서 지정하기. 이후에 파일 이름을 a에서 newfile_name으로 변경\n",
        "  if os.path.exists(a):\n",
        "    new_filename = k + \".\" + b\n",
        "    os.rename(a, new_filename)\n",
        "    #확인을 위해 완료하였습니다 출력\n",
        "    print(\"완료하였습니다.\")\n",
        "  # 입력한 파일이 존재하지 않으면 파일이 존재하지 않는다고 출력하기\n",
        "  else:\n",
        "    print(\"파일이 존재하지 않습니다.\")\n",
        "# 함수 실행\n",
        "change_extension()\n"
      ],
      "metadata": {
        "colab": {
          "base_uri": "https://localhost:8080/"
        },
        "id": "doYIHsyyp1vw",
        "outputId": "eab0dcd6-1905-48a2-f74d-d5ca2e57914b"
      },
      "execution_count": null,
      "outputs": [
        {
          "output_type": "stream",
          "name": "stdout",
          "text": [
            "Drive already mounted at /content/drive; to attempt to forcibly remount, call drive.mount(\"/content/drive\", force_remount=True).\n",
            "filename:/content/drive/MyDrive/assignment/excellent.txt\n",
            "ext:txt\n",
            "완료하였습니다.\n"
          ]
        }
      ]
    }
  ]
}